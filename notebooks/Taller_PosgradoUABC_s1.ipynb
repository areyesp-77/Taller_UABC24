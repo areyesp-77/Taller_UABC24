{
 "cells": [
  {
   "cell_type": "markdown",
   "metadata": {
    "id": "jkIeWTBR7v73"
   },
   "source": [
    "# Procesamiento de corpus y visualización de características\n"
   ]
  },
  {
   "cell_type": "markdown",
   "metadata": {
    "id": "12FPL9hypuoO"
   },
   "source": [
    "# Instalación de librerías\n",
    "\n",
    "En esta sección se detalla qué librerías se deben instalar para hacer el procesamiento de un corpus:\n",
    "\n",
    "* **PANDAS**: Análisis de datos.\n",
    "\n",
    "* **NUMPY**: Creación de vectores y matrices. Procesamiento matemático.\n",
    "\n",
    "* **SEABORN**: Librería para visualización de datos.\n",
    "\n",
    "* **MATPLOTLIB** Librería para visualización de datos.\n",
    "\n",
    "* **WORDCLOUD** Librería para crear nubes de palabras.\n",
    "\n",
    "* **PILLOW**: Librería para edición de imágenes.\n",
    "\n",
    "\n",
    "**Nota**: en este entorno se pueden insertar comentarios, los cuales no afectan la ejecución del código. Para insertarlos, es necesario introducirlos con la tecla #.\n",
    "\n",
    "```\n",
    "!pip install LIBRARY\n",
    "# este comando se usa (!pip) para instalar librerías de Python\n",
    "\n",
    "```"
   ]
  },
  {
   "cell_type": "code",
   "execution_count": null,
   "metadata": {
    "id": "IXnkaPHA5xi5"
   },
   "outputs": [],
   "source": [
    "!pip install pandas"
   ]
  },
  {
   "cell_type": "code",
   "execution_count": null,
   "metadata": {
    "id": "QIy6d3yj_-pN"
   },
   "outputs": [],
   "source": [
    "!pip install numpy"
   ]
  },
  {
   "cell_type": "code",
   "execution_count": null,
   "metadata": {
    "id": "LZd0kU6wAFag"
   },
   "outputs": [],
   "source": [
    "!pip install seaborn"
   ]
  },
  {
   "cell_type": "code",
   "execution_count": null,
   "metadata": {
    "id": "sLxdHL0rATbv"
   },
   "outputs": [],
   "source": [
    "!pip install matplotlib"
   ]
  },
  {
   "cell_type": "code",
   "execution_count": null,
   "metadata": {
    "id": "UXBK3xrsAbPj"
   },
   "outputs": [],
   "source": [
    "!pip install wordcloud"
   ]
  },
  {
   "cell_type": "code",
   "execution_count": null,
   "metadata": {
    "id": "OgMdaI3tAfy-"
   },
   "outputs": [],
   "source": [
    "!pip install pillow"
   ]
  },
  {
   "cell_type": "markdown",
   "metadata": {
    "id": "udK1gFFwA2OO"
   },
   "source": [
    "# Importar librerías\n",
    "\n",
    "Las librerías que se acaban de instalar ya están dispobibles para hacer uso de ellas, solo que antes de emplearlas, hay que indicar en el código que se utilizarán. Para ello, se usa el comando:\n",
    "\n",
    "*  **import** LIBRARY.\n"
   ]
  },
  {
   "cell_type": "code",
   "execution_count": null,
   "metadata": {
    "id": "O_ybZzaVAuqM"
   },
   "outputs": [],
   "source": [
    "import pandas as pd #es común que se usen abreviaturas para hacer más ligero el código. En este caso, se especifica con **as** ABREVIATURA\n",
    "import numpy as np\n",
    "import seaborn as sns\n",
    "import matplotlib.pyplot as plt\n",
    "import os"
   ]
  },
  {
   "cell_type": "markdown",
   "metadata": {
    "id": "O5LdXgeHcDIL"
   },
   "source": [
    "El proceso para importar puede especificarse para no cargar toda la librería, sino solo una parte. Por ejemplo, asumimos que la librería es *Office*, pero de ella solo queremos usar un programa como *Word* y no el resto de programas y plugins de Office. La forma de hacerlo es la siguiente:\n",
    "\n",
    "* **from** LIBRARY **import** PACKAGE\n",
    "* **from** OFFICE **import** WORD"
   ]
  },
  {
   "cell_type": "code",
   "execution_count": null,
   "metadata": {
    "id": "xhG2RkJ_Ccxp"
   },
   "outputs": [],
   "source": [
    "from wordcloud import WordCloud\n",
    "from PIL import Image"
   ]
  },
  {
   "cell_type": "markdown",
   "metadata": {
    "id": "z_F0pWx2Fp1X"
   },
   "source": [
    "# Cargar corpus\n",
    "\n",
    "Es importante saber la ruta del archivo que tiene el corpus.\n",
    "\n",
    "Lo recomendable es que se suba a una ruta del entorno virtual para acelerar el procesamiento.\n",
    "\n",
    "Para este taller usaremos algunos de los corpus que están disponibles en mi página de [Github](https://github.com/areyesp-77/Experimental-datasets.git).\n",
    "\n",
    "\n"
   ]
  },
  {
   "cell_type": "code",
   "execution_count": null,
   "metadata": {
    "id": "N0uEwIp2GE9e"
   },
   "outputs": [],
   "source": [
    "ls #comando para listar la información que está en una carpeta"
   ]
  },
  {
   "cell_type": "markdown",
   "metadata": {
    "id": "_3rZQCSneaO2"
   },
   "source": [
    "## Indexar el corpus en un DataFrame\n",
    "Para poder explorar las características del corpus, primero hay que indexarlo en una variable. Esta variable en PANDAS tiene la estructura de un dataframe, en el cual la información del corpus está organizada en filas y columnas."
   ]
  },
  {
   "cell_type": "code",
   "execution_count": null,
   "metadata": {
    "id": "lJX7hZYoHEIv"
   },
   "outputs": [],
   "source": [
    "corpus = pd.read_csv('hateSpeech.csv',  encoding='utf-8')"
   ]
  },
  {
   "cell_type": "markdown",
   "metadata": {
    "id": "brCm8CmbZum-"
   },
   "source": [
    "# Exploración del corpus\n",
    "\n",
    "Se usarán algunos comandos para tener información sobre el corpus. La mayoría de estos comandos son funciones que se activan al crear variables."
   ]
  },
  {
   "cell_type": "code",
   "execution_count": null,
   "metadata": {
    "id": "tJWCZ-EgZO6m"
   },
   "outputs": [],
   "source": [
    "corpus #primeras y últimas líneas del corpus"
   ]
  },
  {
   "cell_type": "code",
   "execution_count": null,
   "metadata": {
    "id": "IvLMYpE4ZXg1"
   },
   "outputs": [],
   "source": [
    "corpus.head(10)"
   ]
  },
  {
   "cell_type": "code",
   "execution_count": null,
   "metadata": {
    "id": "seyaSrisZbz3"
   },
   "outputs": [],
   "source": [
    "corpus.tail(8)"
   ]
  },
  {
   "cell_type": "code",
   "execution_count": null,
   "metadata": {
    "id": "gDvLj2yOY6cw"
   },
   "outputs": [],
   "source": [
    "corpus.Class.value_counts()"
   ]
  },
  {
   "cell_type": "code",
   "execution_count": null,
   "metadata": {
    "id": "CoSTKrtOZMPV"
   },
   "outputs": [],
   "source": [
    "corpus.Language.value_counts()"
   ]
  },
  {
   "cell_type": "code",
   "execution_count": null,
   "metadata": {
    "id": "azP0KPOLiS--"
   },
   "outputs": [],
   "source": [
    "corpus.info()"
   ]
  },
  {
   "cell_type": "code",
   "execution_count": null,
   "metadata": {
    "id": "3wBeAcWjiWiR"
   },
   "outputs": [],
   "source": [
    "corpus.dtypes"
   ]
  },
  {
   "cell_type": "code",
   "execution_count": null,
   "metadata": {
    "id": "Yf7z3kBAilgH"
   },
   "outputs": [],
   "source": [
    "corpus.Text.size"
   ]
  },
  {
   "cell_type": "code",
   "execution_count": null,
   "metadata": {
    "id": "fV7aNONxixpu"
   },
   "outputs": [],
   "source": [
    "corpus.Text.unique()"
   ]
  },
  {
   "cell_type": "code",
   "execution_count": null,
   "metadata": {
    "id": "Offy7-Y8i7BL"
   },
   "outputs": [],
   "source": [
    "corpus.sample(30)"
   ]
  },
  {
   "cell_type": "markdown",
   "metadata": {
    "id": "eya42JZWjN4v"
   },
   "source": [
    "## Referencias\n",
    "\n",
    "Si quieres explorar más **atributos** y **métodos**, puedes consultar la documentación de PANDAS en este [link](https://pandas.pydata.org/docs/reference/api/pandas.DataFrame.html)."
   ]
  },
  {
   "cell_type": "markdown",
   "metadata": {
    "id": "nI4lhPkdf9hR"
   },
   "source": [
    "# Graficación de los datos"
   ]
  },
  {
   "cell_type": "code",
   "execution_count": null,
   "metadata": {
    "id": "BeJjnipvaglP"
   },
   "outputs": [],
   "source": [
    "#Se graficará la información de Class con base en su frecuencia\n",
    "\n",
    "labels = ['Violencia', 'Acoso'] #etiquetas en eje X\n",
    "counts = [520, 257] #valores en eje Y\n",
    "ypos = np.arange(len(labels)) #vectorización\n",
    "ypos\n",
    "\n",
    "\n",
    "plt.xticks(ypos, labels)\n",
    "plt.xlabel(\"Categorías\")\n",
    "plt.ylabel(\"Frecuencia\")\n",
    "plt.title(\"Distribución por clases\")\n",
    "plt.bar(ypos, counts)"
   ]
  },
  {
   "cell_type": "code",
   "execution_count": null,
   "metadata": {
    "id": "hqrNMHjXlqQF"
   },
   "outputs": [],
   "source": [
    "corpus.Language.value_counts()"
   ]
  },
  {
   "cell_type": "code",
   "execution_count": null,
   "metadata": {
    "id": "W7smD4PteCQh"
   },
   "outputs": [],
   "source": [
    "#Se graficará la información de Language con base en su frecuencia\n",
    "\n",
    "labels = ['E', 'I']\n",
    "counts = [551, 225]\n",
    "ypos = np.arange(len(labels))\n",
    "ypos\n",
    "\n",
    "\n",
    "plt.xticks(ypos, labels)\n",
    "plt.xlabel(\"Tipo de lenguaje\")\n",
    "plt.ylabel(\"Frecuencia\")\n",
    "plt.title(\"Distribución por tipo de lenguaje\")\n",
    "plt.bar(ypos, counts)\n",
    "plt.savefig('language.png')          #con este comando guardamos el gráfico en el path"
   ]
  },
  {
   "cell_type": "markdown",
   "metadata": {
    "id": "VL5Z1K5wefE9"
   },
   "source": [
    "# Visualización por nube de palabras\n"
   ]
  },
  {
   "cell_type": "code",
   "execution_count": null,
   "metadata": {
    "id": "OT31apyleSRL"
   },
   "outputs": [],
   "source": [
    "#Preparación de los datos por categoría. Se dividen con base en la categoría.\n",
    "\n",
    "cloud1 = corpus[corpus.Class=='Violencia']\n",
    "cloud2 = corpus[corpus.Class=='Acoso']\n",
    "\n",
    "#Generación de listas por categoría. Se toman los datos de la columna Text.\n",
    "lists_cloud1 = cloud1['Text'].tolist()\n",
    "lists_cloud2 = cloud2['Text'].tolist()\n",
    "\n",
    "#Genaración de elementos en listas\n",
    "words_cloud1 = (\"\").join(lists_cloud1)\n",
    "\n",
    "\n",
    "words_cloud2 = (\"\").join(lists_cloud2)\n",
    "#filtered_career = filtered_career.lower()"
   ]
  },
  {
   "cell_type": "code",
   "execution_count": null,
   "metadata": {
    "id": "yTsFca7VfLOI"
   },
   "outputs": [],
   "source": [
    "#Se crea la plantilla de la nube de palabras para las palabras de la categoría Violencia.\n",
    "template = np.array(Image.open(\"nube.jpg\"))\n",
    "\n",
    "wordcloud_1 = WordCloud(max_font_size = 50,\n",
    "                        margin=3,\n",
    "                        stopwords=['que', 'la', 'el', 'los','las', 'con', 'y', 'pero', 'de', 'en', 'del',\n",
    "                                   'con', 'a', 'sin', 'le', 'por', 'para', 'su', 'me', 'le', 'al', 'porque'\n",
    "                                   'te', 'o', 'una', 'eso', 'ni', 'ya'],\n",
    "                        background_color = \"Black\", mask = template,\n",
    "                        colormap=\"Reds\").generate(words_cloud1)"
   ]
  },
  {
   "cell_type": "code",
   "execution_count": null,
   "metadata": {
    "id": "N0xyvQOMfdEr"
   },
   "outputs": [],
   "source": [
    "#Graficación de la nube de palabras para categoría Violencia\n",
    "\n",
    "plt.figure(figsize=[8,8])\n",
    "plt.imshow(wordcloud_1,interpolation='bicubic')\n",
    "plt.axis(\"off\")\n",
    "plt.margins(x=1, y=1)\n",
    "\n",
    "plt.savefig(\"wordcloud_Violencia.png\", bbox_inches='tight') #comando para guardar la nube.\n",
    "plt.show()"
   ]
  },
  {
   "cell_type": "code",
   "execution_count": null,
   "metadata": {
    "id": "t72iq1cVfVh7"
   },
   "outputs": [],
   "source": [
    "#Se crea la plantilla de la nube de palabras para las palabras de la categoría Acoso.\n",
    "\n",
    "template = np.array(Image.open(\"nube.jpg\"))\n",
    "\n",
    "wordcloud_2 = WordCloud(max_font_size = 100,\n",
    "                        margin=3,\n",
    "                        stopwords=['que', 'la', 'el', 'los','las', 'con', 'y', 'pero', 'de', 'en', 'del',\n",
    "                                   'con', 'a', 'sin', 'le', 'por', 'para', 'su', 'me', 'le', 'al', 'porque'\n",
    "                                   'te', 'o', 'una', 'eso', 'ni', 'ya'],\n",
    "                        background_color = \"Grey\",\n",
    "                        mask = template,\n",
    "                        colormap=\"Greens\").generate(words_cloud2)"
   ]
  },
  {
   "cell_type": "code",
   "execution_count": null,
   "metadata": {
    "id": "-iEfbCqefmNw"
   },
   "outputs": [],
   "source": [
    "plt.figure(figsize=[8,8])\n",
    "plt.imshow(wordcloud_2,interpolation='bilinear')\n",
    "plt.axis(\"off\")\n",
    "plt.margins(x=1, y=1)\n",
    "\n",
    "plt.savefig(\"wordcloud_Acoso.png\", bbox_inches='tight')\n",
    "plt.show()"
   ]
  },
  {
   "cell_type": "markdown",
   "metadata": {
    "id": "-f1q7CYvldbj"
   },
   "source": [
    "# Prueba con un corpus diferente\n",
    "\n"
   ]
  },
  {
   "cell_type": "markdown",
   "metadata": {
    "id": "JDj10Eb5qWwr"
   },
   "source": [
    "**Nota**\n",
    "\n",
    "Para evitar ambigüedad y duplicidad de información, es conveniente que en este ejercicio definan variables diferentes. Por ejemplo, en lugar de que el dataframe se llame *corpus*, ahora le pondremos *datos*."
   ]
  },
  {
   "cell_type": "code",
   "execution_count": null,
   "metadata": {
    "id": "_pVLKTD5mEk6"
   },
   "outputs": [],
   "source": [
    "datos = pd.read_csv('data.csv', encoding='utf-8')"
   ]
  },
  {
   "cell_type": "code",
   "execution_count": null,
   "metadata": {
    "id": "SXRGJ3dOmZ-8"
   },
   "outputs": [],
   "source": [
    "datos.head(10)"
   ]
  },
  {
   "cell_type": "code",
   "execution_count": null,
   "metadata": {
    "id": "P_7vDJAAoRNE"
   },
   "outputs": [],
   "source": [
    "datos.info()"
   ]
  },
  {
   "cell_type": "code",
   "execution_count": null,
   "metadata": {
    "id": "GLdvfzR4kxqk"
   },
   "outputs": [],
   "source": [
    "datos.UserLanguage.value_counts()"
   ]
  },
  {
   "cell_type": "code",
   "execution_count": null,
   "metadata": {
    "id": "6CRtha0QnLTJ"
   },
   "outputs": [],
   "source": [
    "datos.worries_covid_group.value_counts()"
   ]
  },
  {
   "cell_type": "code",
   "execution_count": null,
   "metadata": {
    "id": "qE5Bs2pEnXU5"
   },
   "outputs": [],
   "source": [
    "datos.age.value_counts()"
   ]
  },
  {
   "cell_type": "code",
   "execution_count": null,
   "metadata": {
    "id": "bT6Dmohbnbwg"
   },
   "outputs": [],
   "source": [
    "labels = ['18-29', '30-39', '50-59', '40-49', '60-69'] #Etiquetas en eje X\n",
    "counts = [37, 17, 11, 7, 2] #Valores en eje Y\n",
    "ypos = np.arange(len(labels)) #converting text labels to numberic value, 0 and 1\n",
    "ypos\n",
    "\n",
    "\n",
    "plt.xticks(ypos, labels)\n",
    "plt.xlabel(\"Rango etario\")\n",
    "plt.ylabel(\"Frecuencia\")\n",
    "plt.title(\"Frecuencia por grupo etario\")\n",
    "plt.bar(ypos, counts)\n",
    "plt.savefig('etario.png')"
   ]
  },
  {
   "cell_type": "code",
   "execution_count": null,
   "metadata": {
    "id": "FkyGydsUrqzn"
   },
   "outputs": [],
   "source": [
    "#Preparación de los datos por categoría. Se dividen con base en la categoría.\n",
    "\n",
    "cloud1 = datos[datos.employment=='Self-employed']\n",
    "#cloud2 = corpus[corpus.Class=='Acoso']\n",
    "\n",
    "#Generación de listas por categoría. Se toman los datos de la columna Text.\n",
    "lists_cloud1 = cloud1['association_covid'].tolist()\n",
    "#lists_cloud2 = cloud2['Text'].tolist()\n",
    "\n",
    "#Genaración de elementos en listas\n",
    "words_cloud1 = (\"\").join(lists_cloud1)\n",
    "\n",
    "\n",
    "#words_cloud2 = (\"\").join(lists_cloud2)\n",
    "\n",
    "#Se crea la plantilla de la nube de palabras para las palabras de la categoría Violencia.\n",
    "template = np.array(Image.open(\"nube.jpg\"))\n",
    "\n",
    "wordcloud_1 = WordCloud(max_font_size = 50,\n",
    "                        margin=3,\n",
    "                        stopwords=['que', 'la', 'el', 'los','las', 'con', 'y', 'pero', 'de', 'en', 'del',\n",
    "                                   'con', 'a', 'sin', 'le', 'por', 'para', 'su', 'me', 'le', 'al', 'porque'\n",
    "                                   'te', 'o', 'una', 'eso', 'ni', 'ya'],\n",
    "                        background_color = \"Black\", mask = template,\n",
    "                        colormap=\"Reds\").generate(words_cloud1)\n",
    "\n",
    "#Graficación de la nube de palabras para categoría Violencia\n",
    "\n",
    "plt.figure(figsize=[8,8])\n",
    "plt.imshow(wordcloud_1,interpolation='bicubic')\n",
    "plt.axis(\"off\")\n",
    "plt.margins(x=1, y=1)\n",
    "\n",
    "plt.savefig(\"wordcloud_Violencia.png\", bbox_inches='tight') #comando para guardar la nube.\n",
    "plt.show()"
   ]
  }
 ],
 "metadata": {
  "colab": {
   "provenance": []
  },
  "kernelspec": {
   "display_name": "Python 3",
   "language": "python",
   "name": "python3"
  },
  "language_info": {
   "codemirror_mode": {
    "name": "ipython",
    "version": 3
   },
   "file_extension": ".py",
   "mimetype": "text/x-python",
   "name": "python",
   "nbconvert_exporter": "python",
   "pygments_lexer": "ipython3",
   "version": "3.8.8"
  }
 },
 "nbformat": 4,
 "nbformat_minor": 1
}
