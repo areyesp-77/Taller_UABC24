{
 "cells": [
  {
   "cell_type": "markdown",
   "metadata": {
    "id": "jkIeWTBR7v73"
   },
   "source": [
    "# Descripción estadística del corpus\n",
    "\n",
    "\n",
    "\n"
   ]
  },
  {
   "cell_type": "markdown",
   "metadata": {
    "id": "12FPL9hypuoO"
   },
   "source": [
    "# Instalación de librerías\n",
    "\n",
    "Se usarán las siguientes librerías de la sesión pasada:\n",
    "\n",
    "* **PANDAS**: Análisis de datos.\n",
    "\n",
    "* **NUMPY**: Creación de vectores y matrices. Procesamiento matemático.\n",
    "\n",
    "* **SEABORN**: Librería para visualización de datos.\n",
    "\n",
    "* **MATPLOTLIB** Librería para visualización de datos."
   ]
  },
  {
   "cell_type": "code",
   "execution_count": null,
   "metadata": {
    "id": "IXnkaPHA5xi5"
   },
   "outputs": [],
   "source": [
    "!pip install pandas\n",
    "!pip install numpy\n",
    "!pip install seaborn\n",
    "!pip install matplotlib"
   ]
  },
  {
   "cell_type": "markdown",
   "metadata": {
    "id": "udK1gFFwA2OO"
   },
   "source": [
    "# Importar librerías\n",
    "\n",
    "Comando de la sesión anterior.\n",
    "\n",
    "*  **import** LIBRARY.\n",
    "\n",
    "Recordar que, si no es necesaria toda la librería, se puede importar solo una función de ella. Esto hace que el coste computacional y temporal sean más eficientes. La forma de hacerlo es la siguiente:\n",
    "\n",
    "* **from** LIBRARY **import** PACKAGE.\n",
    "* **from** OFFICE **import** WORD"
   ]
  },
  {
   "cell_type": "code",
   "execution_count": null,
   "metadata": {
    "id": "O_ybZzaVAuqM"
   },
   "outputs": [],
   "source": [
    "import pandas as pd #es común que se usen abreviaturas para hacer más ligero el código. En este caso, se especifica con **as** ABREVIATURA\n",
    "import numpy as np\n",
    "import seaborn as sns\n",
    "import matplotlib.pyplot as plt\n",
    "import os"
   ]
  },
  {
   "cell_type": "markdown",
   "metadata": {
    "id": "z_F0pWx2Fp1X"
   },
   "source": [
    "# Cargar e instanciar corpus\n"
   ]
  },
  {
   "cell_type": "code",
   "execution_count": null,
   "metadata": {
    "id": "lJX7hZYoHEIv"
   },
   "outputs": [],
   "source": [
    "corpus = pd.read_csv('CBspectral-measures.csv',  encoding='utf-8')\n",
    "#corpus = pd.read_csv('Cuestionario.csv',  encoding='utf-8')"
   ]
  },
  {
   "cell_type": "markdown",
   "metadata": {
    "id": "brCm8CmbZum-"
   },
   "source": [
    "# Exploración y visualización del corpus\n",
    "\n",
    "Se usarán los comandos de la sesión anterior para tener información sobre el corpus.\n",
    "\n",
    "Recordar que la mayoría de estos comandos son funciones que se activan al crear variables y que ello hace que se activen herramientas específicas que leen la información de las variables, por ejemplo, .head, .info, .CABECERA.value_counts, etc."
   ]
  },
  {
   "cell_type": "code",
   "execution_count": null,
   "metadata": {
    "id": "tJWCZ-EgZO6m"
   },
   "outputs": [],
   "source": [
    "corpus #primeras y últimas líneas del corpus"
   ]
  },
  {
   "cell_type": "code",
   "execution_count": null,
   "metadata": {
    "id": "kwiadnChznjb"
   },
   "outputs": [],
   "source": [
    "from matplotlib import pyplot as plt\n",
    "import seaborn as sns\n",
    "import pandas as pd\n",
    "plt.subplots(figsize=(8, 8))\n",
    "df_2dhist = pd.DataFrame({\n",
    "    x_label: grp['asp'].value_counts()\n",
    "    for x_label, grp in corpus.groupby('coda')\n",
    "})\n",
    "sns.heatmap(df_2dhist, cmap='viridis')\n",
    "plt.xlabel('coda')\n",
    "_ = plt.ylabel('asp')"
   ]
  },
  {
   "cell_type": "code",
   "execution_count": null,
   "metadata": {
    "id": "9o74ZcC_yh8b"
   },
   "outputs": [],
   "source": [
    "from matplotlib import pyplot as plt\n",
    "corpus['sF0'].plot(kind='hist', bins=20, title='sF0')\n",
    "plt.gca().spines[['top', 'right',]].set_visible(False)"
   ]
  },
  {
   "cell_type": "code",
   "execution_count": null,
   "metadata": {
    "id": "KJVTIq3uxjuX"
   },
   "outputs": [],
   "source": [
    "corpus.info()"
   ]
  },
  {
   "cell_type": "code",
   "execution_count": null,
   "metadata": {
    "id": "gDvLj2yOY6cw"
   },
   "outputs": [],
   "source": [
    "corpus.Energy.value_counts()"
   ]
  },
  {
   "cell_type": "code",
   "execution_count": null,
   "metadata": {
    "id": "vkO_Vy-VxxLC"
   },
   "outputs": [],
   "source": [
    "corpus.voicing.unique()"
   ]
  },
  {
   "cell_type": "code",
   "execution_count": null,
   "metadata": {
    "id": "CoSTKrtOZMPV"
   },
   "outputs": [],
   "source": [
    "corpus.voicing.value_counts()"
   ]
  },
  {
   "cell_type": "code",
   "execution_count": null,
   "metadata": {
    "id": "zO07BhSVzx6r"
   },
   "outputs": [],
   "source": [
    "corpus"
   ]
  },
  {
   "cell_type": "code",
   "execution_count": null,
   "metadata": {
    "id": "7nl9ldQ-q5x8"
   },
   "outputs": [],
   "source": [
    "corpus.rmul(2)    #método para multiplicar valores"
   ]
  },
  {
   "cell_type": "markdown",
   "metadata": {
    "id": "S1vqR4dyoKAd"
   },
   "source": [
    "## Otras funciones para visualizar los datos: histogramas"
   ]
  },
  {
   "cell_type": "code",
   "execution_count": null,
   "metadata": {
    "id": "rzvaiKsyiLWr"
   },
   "outputs": [],
   "source": [
    "corpus.hist() #genera histogramas a partir de los datos del corpus"
   ]
  },
  {
   "cell_type": "code",
   "execution_count": null,
   "metadata": {
    "id": "gC9Go_y3k7tT"
   },
   "outputs": [],
   "source": [
    "corpus.hist('duration') #para hacer el histograma de una columna específica\n",
    "plt.savefig('duration.png') #guardar el histograma en FILE.png"
   ]
  },
  {
   "cell_type": "code",
   "execution_count": null,
   "metadata": {
    "id": "_q8RlYVOir4E"
   },
   "outputs": [],
   "source": [
    "corpus.hist('duration', 'window') #comparación de datos\n",
    "plt.savefig('comparisson.pdf')"
   ]
  },
  {
   "cell_type": "code",
   "execution_count": null,
   "metadata": {
    "id": "k7dWcgpUmQ-C"
   },
   "outputs": [],
   "source": [
    "#ejemplo para guardar una muestra aleatoria del corpus\n",
    "corpus_150 = corpus.sample(150) #guarda 150 líneas en la variable\n",
    "\n",
    "#si se quiere guardar los datos que están en la variable, se puede usar el siguiente código\n",
    "file1 = open ('corpus_150.txt', 'w')\n",
    "file1.write(str((corpus_150)))\n",
    "file1.close()"
   ]
  },
  {
   "cell_type": "code",
   "execution_count": null,
   "metadata": {
    "id": "NSopbP2lvShK"
   },
   "outputs": [],
   "source": [
    "corpus_150"
   ]
  },
  {
   "cell_type": "markdown",
   "metadata": {
    "id": "Vbw-Xg9pocIn"
   },
   "source": [
    "## Estadística general con la función .describe()"
   ]
  },
  {
   "cell_type": "code",
   "execution_count": null,
   "metadata": {
    "id": "oHd99Oh7olVJ"
   },
   "outputs": [],
   "source": [
    "corpus.shape #columnas por filas"
   ]
  },
  {
   "cell_type": "code",
   "execution_count": null,
   "metadata": {
    "id": "IvLMYpE4ZXg1"
   },
   "outputs": [],
   "source": [
    "corpus.describe()\n"
   ]
  },
  {
   "cell_type": "code",
   "execution_count": null,
   "metadata": {
    "id": "qv6r-DObxTEB"
   },
   "outputs": [],
   "source": [
    "file2 = open ('corpus_describe.txt', 'w')\n",
    "file2.write(str((corpus.describe())))\n",
    "file2.close()"
   ]
  },
  {
   "cell_type": "markdown",
   "metadata": {
    "id": "-f1q7CYvldbj"
   },
   "source": [
    "# Estadística descriptiva\n",
    "\n",
    "Métricas descriptivas sobre los datos:\n",
    "\n",
    "\n",
    "*   Media\n",
    "*   Mediana\n",
    "*   Moda\n",
    "*   Desviación estándar\n",
    "*   Varianza\n",
    "\n",
    "\n",
    "\n"
   ]
  },
  {
   "cell_type": "code",
   "execution_count": null,
   "metadata": {
    "id": "6CRtha0QnLTJ"
   },
   "outputs": [],
   "source": [
    "corpus.sF0.mean()"
   ]
  },
  {
   "cell_type": "code",
   "execution_count": null,
   "metadata": {
    "id": "Vt3vuLX23A00"
   },
   "outputs": [],
   "source": [
    "corpus.sF0.median()"
   ]
  },
  {
   "cell_type": "code",
   "execution_count": null,
   "metadata": {
    "id": "BrPXSL8g3O93"
   },
   "outputs": [],
   "source": [
    "corpus.sF0.mode()"
   ]
  },
  {
   "cell_type": "code",
   "execution_count": null,
   "metadata": {
    "id": "qE5Bs2pEnXU5"
   },
   "outputs": [],
   "source": [
    "corpus.sF0.std()"
   ]
  },
  {
   "cell_type": "code",
   "execution_count": null,
   "metadata": {
    "id": "30P5g_Wq3TLy"
   },
   "outputs": [],
   "source": [
    "corpus.sF0.var()"
   ]
  },
  {
   "cell_type": "code",
   "execution_count": null,
   "metadata": {
    "id": "bT6Dmohbnbwg"
   },
   "outputs": [],
   "source": [
    "corpus.sF0.min()"
   ]
  },
  {
   "cell_type": "code",
   "execution_count": null,
   "metadata": {
    "id": "3Dkv5T7MyxGg"
   },
   "outputs": [],
   "source": [
    " corpus.sF0.max()"
   ]
  },
  {
   "cell_type": "code",
   "execution_count": null,
   "metadata": {
    "id": "vbnFM08Ty0LQ"
   },
   "outputs": [],
   "source": [
    "corpus.sF0.quantile()"
   ]
  },
  {
   "cell_type": "code",
   "execution_count": null,
   "metadata": {
    "id": "GLdvfzR4kxqk"
   },
   "outputs": [],
   "source": [
    "corpus.sF0.describe()"
   ]
  },
  {
   "cell_type": "code",
   "execution_count": null,
   "metadata": {
    "id": "3lBQMKgyzQti"
   },
   "outputs": [],
   "source": [
    "corpus.groupby('duration').agg({'Energy': ['mean', 'std', 'var']}).reset_index()"
   ]
  },
  {
   "cell_type": "code",
   "execution_count": null,
   "metadata": {
    "id": "5B2New9G0HZT"
   },
   "outputs": [],
   "source": [
    "corpus.groupby('duration').agg({'sF0': ['mean']}).reset_index()"
   ]
  },
  {
   "cell_type": "code",
   "execution_count": null,
   "metadata": {
    "id": "x8DfIJaJ28fa"
   },
   "outputs": [],
   "source": [
    "distN_Energy = sns.distplot(corpus.Energy)"
   ]
  },
  {
   "cell_type": "code",
   "execution_count": null,
   "metadata": {
    "id": "ISzs5L4P4g85"
   },
   "outputs": [],
   "source": [
    "distN_tone = sns.distplot(corpus.tone)"
   ]
  },
  {
   "cell_type": "code",
   "execution_count": null,
   "metadata": {
    "id": "rj8auL134pmL"
   },
   "outputs": [],
   "source": [
    "corpus.manner.value_counts()"
   ]
  },
  {
   "cell_type": "markdown",
   "metadata": {
    "id": "s6n8u9g673lR"
   },
   "source": [
    "# Anotación POS\n",
    "En esta sección veremos cómo se puede anotar el corpus con etiquetas de categoría gramatical de forma automática e iterativa. Para ello, usaremos el software [TreeTagger](https://www.cis.uni-muenchen.de/~schmid/tools/TreeTagger/)."
   ]
  },
  {
   "cell_type": "code",
   "execution_count": null,
   "metadata": {
    "id": "6y1OkRDQ7OrQ"
   },
   "outputs": [],
   "source": [
    "lexicon = corpus['manner'].astype(str)\n",
    "file2 = open ('lexicon.txt', 'w')\n",
    "file2.write(str((lexicon)))\n",
    "file2.close()"
   ]
  },
  {
   "cell_type": "code",
   "execution_count": null,
   "metadata": {
    "id": "9IEMPh1G8eCb"
   },
   "outputs": [],
   "source": [
    "!sh install-tagger.sh"
   ]
  },
  {
   "cell_type": "code",
   "execution_count": null,
   "metadata": {
    "id": "oi8Z9v5c-TPv"
   },
   "outputs": [],
   "source": [
    "!echo 'this is a test' | cmd/tree-tagger-english-bnc"
   ]
  },
  {
   "cell_type": "code",
   "execution_count": null,
   "metadata": {
    "id": "9ndpthjw-fGD"
   },
   "outputs": [],
   "source": [
    "!cat lexicon.txt | cmd/tree-tagger-english-bnc > lexicon_annotated.txt"
   ]
  },
  {
   "cell_type": "markdown",
   "metadata": {
    "id": "0qslyYQeBjVD"
   },
   "source": [
    "# Refuerzo\n",
    "\n",
    "Replica los mismos procesos pero con los datos de un nuevo dataset.\n",
    "Usa el archivo *experiencia.xlsx* para probar con la lectura de archivos de Excel."
   ]
  },
  {
   "cell_type": "code",
   "execution_count": null,
   "metadata": {
    "id": "BMP6sKX--nov"
   },
   "outputs": [],
   "source": [
    "datos = pd.read_excel('experiencia.xlsx')"
   ]
  },
  {
   "cell_type": "code",
   "execution_count": null,
   "metadata": {
    "id": "kKUPRyU3DHpS"
   },
   "outputs": [],
   "source": [
    "datos"
   ]
  },
  {
   "cell_type": "code",
   "execution_count": null,
   "metadata": {
    "id": "qLbP5_YyDKwE"
   },
   "outputs": [],
   "source": [
    "datos.describe()"
   ]
  },
  {
   "cell_type": "code",
   "execution_count": null,
   "metadata": {
    "id": "p8gywvX0DMaJ"
   },
   "outputs": [],
   "source": [
    "datos.dtypes"
   ]
  },
  {
   "cell_type": "code",
   "execution_count": null,
   "metadata": {
    "id": "MdRC3J_ADSu_"
   },
   "outputs": [],
   "source": [
    "vocabulario = datos['Preferencia']\n",
    "file3 = open ('vocabulario.txt', 'w')\n",
    "file3.write(str((vocabulario)))\n",
    "file2.close()"
   ]
  },
  {
   "cell_type": "code",
   "execution_count": null,
   "metadata": {
    "id": "J9TWu02EDoVY"
   },
   "outputs": [],
   "source": [
    "!sh install-tagger.sh"
   ]
  },
  {
   "cell_type": "code",
   "execution_count": null,
   "metadata": {
    "id": "5RLvV16vD6kQ"
   },
   "outputs": [],
   "source": [
    "!echo 'esta es la prueba de instalación' | cmd/tree-tagger-spanish"
   ]
  },
  {
   "cell_type": "code",
   "execution_count": null,
   "metadata": {
    "id": "RlnNduN6EA2W"
   },
   "outputs": [],
   "source": [
    "!cat vocabulario.txt | cmd/tree-tagger-spanish > vocabulario_annotated.txt"
   ]
  }
 ],
 "metadata": {
  "colab": {
   "provenance": []
  },
  "kernelspec": {
   "display_name": "Python 3",
   "language": "python",
   "name": "python3"
  },
  "language_info": {
   "codemirror_mode": {
    "name": "ipython",
    "version": 3
   },
   "file_extension": ".py",
   "mimetype": "text/x-python",
   "name": "python",
   "nbconvert_exporter": "python",
   "pygments_lexer": "ipython3",
   "version": "3.8.8"
  }
 },
 "nbformat": 4,
 "nbformat_minor": 1
}
